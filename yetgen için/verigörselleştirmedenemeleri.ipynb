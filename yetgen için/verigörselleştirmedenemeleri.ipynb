{
 "cells": [
  {
   "cell_type": "code",
   "execution_count": 32,
   "metadata": {},
   "outputs": [],
   "source": [
    "import pandas as pd\n",
    "import numpy as np\n",
    "import seaborn as sns\n",
    "import matplotlib.pyplot as plt\n",
    "\n",
    "import xlrd"
   ]
  },
  {
   "cell_type": "code",
   "execution_count": 30,
   "metadata": {},
   "outputs": [],
   "source": [
    "df = pd.read_excel(r'C:\\Users\\Acer\\Documents\\GitHub\\MiuulMakineOgrenmesiYazKampi\\yetgen için\\YetGen Core Python 1. Hafta Lider Atölyesi Geri Bildirim Formu (Responses).xlsx')"
   ]
  },
  {
   "cell_type": "code",
   "execution_count": 31,
   "metadata": {},
   "outputs": [
    {
     "data": {
      "text/html": [
       "<div>\n",
       "<style scoped>\n",
       "    .dataframe tbody tr th:only-of-type {\n",
       "        vertical-align: middle;\n",
       "    }\n",
       "\n",
       "    .dataframe tbody tr th {\n",
       "        vertical-align: top;\n",
       "    }\n",
       "\n",
       "    .dataframe thead th {\n",
       "        text-align: right;\n",
       "    }\n",
       "</style>\n",
       "<table border=\"1\" class=\"dataframe\">\n",
       "  <thead>\n",
       "    <tr style=\"text-align: right;\">\n",
       "      <th></th>\n",
       "      <th>Timestamp</th>\n",
       "      <th>Ad Soyad:</th>\n",
       "      <th>YetGen ID:</th>\n",
       "      <th>Liderinin Ad ve Soyadı</th>\n",
       "      <th>Atölyede yeni bilgiler öğrendin mi?</th>\n",
       "      <th>Eğitim sonrası görevlerin üzerine atölyeye kadar çalışma yapabilmiş miydin?</th>\n",
       "      <th>Eğitim sonrası görevlerle ilgili çalışma yapamamanın nedeni bizimle paylaşmak ister misin?</th>\n",
       "      <th>Liderimizin anlatımını nasıl buldun?</th>\n",
       "      <th>Liderimizin anlatımı hakkındaki düşüncelerin nelerdir?</th>\n",
       "      <th>Çözülen soruların zorluğunu nasıl buldun?</th>\n",
       "      <th>Çözülen soruların zorluğu hakkındaki düşüncelerin nelerdir?</th>\n",
       "      <th>Zoom deneyimin nasıldı?</th>\n",
       "      <th>Zoom deneyimin hakkındaki düşüncelerin nelerdir?</th>\n",
       "      <th>Güne bir söz bırakacak olsaydın bu ne olurdu?</th>\n",
       "      <th>Eklemek istediklerin olursa buraya yazabilirsin :)</th>\n",
       "    </tr>\n",
       "  </thead>\n",
       "  <tbody>\n",
       "    <tr>\n",
       "      <th>0</th>\n",
       "      <td>2023-02-02 21:24:33.626</td>\n",
       "      <td>Beyzanur Mustafaoğlu</td>\n",
       "      <td>25400</td>\n",
       "      <td>Ahmet Hakan Öztürk</td>\n",
       "      <td>Evet</td>\n",
       "      <td>Evet</td>\n",
       "      <td>NaN</td>\n",
       "      <td>7</td>\n",
       "      <td>Örnekler üzerinden anlatmasından dolayı yeteri...</td>\n",
       "      <td>4</td>\n",
       "      <td>NaN</td>\n",
       "      <td>7</td>\n",
       "      <td>NaN</td>\n",
       "      <td>Damlaya damlaya göl olur demek istiyorum. Ufak...</td>\n",
       "      <td>NaN</td>\n",
       "    </tr>\n",
       "    <tr>\n",
       "      <th>1</th>\n",
       "      <td>2023-02-02 21:28:20.867</td>\n",
       "      <td>Aleyna Dorukbaşı</td>\n",
       "      <td>26189</td>\n",
       "      <td>Ahmet Hakan Öztürk</td>\n",
       "      <td>Evet</td>\n",
       "      <td>Evet</td>\n",
       "      <td>NaN</td>\n",
       "      <td>7</td>\n",
       "      <td>Anlayabilmemiz için elinden geleni yaptı ve ge...</td>\n",
       "      <td>4</td>\n",
       "      <td>NaN</td>\n",
       "      <td>7</td>\n",
       "      <td>NaN</td>\n",
       "      <td>Yorgunluğumu biraz olsun attığım bir atölyeydi :)</td>\n",
       "      <td>NaN</td>\n",
       "    </tr>\n",
       "    <tr>\n",
       "      <th>2</th>\n",
       "      <td>2023-02-02 21:39:14.289</td>\n",
       "      <td>Nurulhak Sakız</td>\n",
       "      <td>28877</td>\n",
       "      <td>Enes Feyzi Ergin</td>\n",
       "      <td>Evet</td>\n",
       "      <td>Evet</td>\n",
       "      <td>NaN</td>\n",
       "      <td>7</td>\n",
       "      <td>çok akıcı anlattı</td>\n",
       "      <td>5</td>\n",
       "      <td>NaN</td>\n",
       "      <td>6</td>\n",
       "      <td>NaN</td>\n",
       "      <td>Berkcan İyi ki varsınn</td>\n",
       "      <td>NaN</td>\n",
       "    </tr>\n",
       "    <tr>\n",
       "      <th>3</th>\n",
       "      <td>2023-02-02 21:39:16.074</td>\n",
       "      <td>Arda Berk Arduç</td>\n",
       "      <td>212202023</td>\n",
       "      <td>Enes Feyzi Ergin</td>\n",
       "      <td>Evet</td>\n",
       "      <td>Evet</td>\n",
       "      <td>NaN</td>\n",
       "      <td>6</td>\n",
       "      <td>Anlaşılır ve yeterli.</td>\n",
       "      <td>2</td>\n",
       "      <td>NaN</td>\n",
       "      <td>7</td>\n",
       "      <td>NaN</td>\n",
       "      <td>\"Ev yapa yapa mimar, kitara çala çala kitaracı...</td>\n",
       "      <td>NaN</td>\n",
       "    </tr>\n",
       "    <tr>\n",
       "      <th>4</th>\n",
       "      <td>2023-02-02 21:39:23.710</td>\n",
       "      <td>Aslıhan Tat</td>\n",
       "      <td>25832</td>\n",
       "      <td>Enes Feyzi Ergin</td>\n",
       "      <td>Evet</td>\n",
       "      <td>Evet</td>\n",
       "      <td>NaN</td>\n",
       "      <td>6</td>\n",
       "      <td>Gayet açıklayıcıydı</td>\n",
       "      <td>4</td>\n",
       "      <td>NaN</td>\n",
       "      <td>6</td>\n",
       "      <td>NaN</td>\n",
       "      <td>durma kovala</td>\n",
       "      <td>NaN</td>\n",
       "    </tr>\n",
       "  </tbody>\n",
       "</table>\n",
       "</div>"
      ],
      "text/plain": [
       "                Timestamp             Ad Soyad: YetGen ID:  \\\n",
       "0 2023-02-02 21:24:33.626  Beyzanur Mustafaoğlu      25400   \n",
       "1 2023-02-02 21:28:20.867     Aleyna Dorukbaşı       26189   \n",
       "2 2023-02-02 21:39:14.289        Nurulhak Sakız      28877   \n",
       "3 2023-02-02 21:39:16.074       Arda Berk Arduç  212202023   \n",
       "4 2023-02-02 21:39:23.710           Aslıhan Tat      25832   \n",
       "\n",
       "  Liderinin Ad ve Soyadı Atölyede yeni bilgiler öğrendin mi?  \\\n",
       "0     Ahmet Hakan Öztürk                                Evet   \n",
       "1     Ahmet Hakan Öztürk                                Evet   \n",
       "2       Enes Feyzi Ergin                                Evet   \n",
       "3       Enes Feyzi Ergin                                Evet   \n",
       "4       Enes Feyzi Ergin                                Evet   \n",
       "\n",
       "  Eğitim sonrası görevlerin üzerine atölyeye kadar çalışma yapabilmiş miydin?  \\\n",
       "0                                               Evet                            \n",
       "1                                               Evet                            \n",
       "2                                               Evet                            \n",
       "3                                               Evet                            \n",
       "4                                               Evet                            \n",
       "\n",
       "  Eğitim sonrası görevlerle ilgili çalışma yapamamanın nedeni bizimle paylaşmak ister misin?  \\\n",
       "0                                                NaN                                           \n",
       "1                                                NaN                                           \n",
       "2                                                NaN                                           \n",
       "3                                                NaN                                           \n",
       "4                                                NaN                                           \n",
       "\n",
       "   Liderimizin anlatımını nasıl buldun?  \\\n",
       "0                                     7   \n",
       "1                                     7   \n",
       "2                                     7   \n",
       "3                                     6   \n",
       "4                                     6   \n",
       "\n",
       "  Liderimizin anlatımı hakkındaki düşüncelerin nelerdir?  \\\n",
       "0  Örnekler üzerinden anlatmasından dolayı yeteri...       \n",
       "1  Anlayabilmemiz için elinden geleni yaptı ve ge...       \n",
       "2                                  çok akıcı anlattı       \n",
       "3                              Anlaşılır ve yeterli.       \n",
       "4                                Gayet açıklayıcıydı       \n",
       "\n",
       "   Çözülen soruların zorluğunu nasıl buldun?  \\\n",
       "0                                          4   \n",
       "1                                          4   \n",
       "2                                          5   \n",
       "3                                          2   \n",
       "4                                          4   \n",
       "\n",
       "  Çözülen soruların zorluğu hakkındaki düşüncelerin nelerdir?  \\\n",
       "0                                                NaN            \n",
       "1                                                NaN            \n",
       "2                                                NaN            \n",
       "3                                                NaN            \n",
       "4                                                NaN            \n",
       "\n",
       "   Zoom deneyimin nasıldı? Zoom deneyimin hakkındaki düşüncelerin nelerdir?  \\\n",
       "0                        7                                              NaN   \n",
       "1                        7                                              NaN   \n",
       "2                        6                                              NaN   \n",
       "3                        7                                              NaN   \n",
       "4                        6                                              NaN   \n",
       "\n",
       "       Güne bir söz bırakacak olsaydın bu ne olurdu?  \\\n",
       "0  Damlaya damlaya göl olur demek istiyorum. Ufak...   \n",
       "1  Yorgunluğumu biraz olsun attığım bir atölyeydi :)   \n",
       "2                             Berkcan İyi ki varsınn   \n",
       "3  \"Ev yapa yapa mimar, kitara çala çala kitaracı...   \n",
       "4                                       durma kovala   \n",
       "\n",
       "  Eklemek istediklerin olursa buraya yazabilirsin :)  \n",
       "0                                                NaN  \n",
       "1                                                NaN  \n",
       "2                                                NaN  \n",
       "3                                                NaN  \n",
       "4                                                NaN  "
      ]
     },
     "execution_count": 31,
     "metadata": {},
     "output_type": "execute_result"
    }
   ],
   "source": [
    "df.head()"
   ]
  },
  {
   "cell_type": "code",
   "execution_count": 34,
   "metadata": {},
   "outputs": [
    {
     "data": {
      "image/png": "[encoded data removed]",
      "text/plain": [
       "<Figure size 640x480 with 1 Axes>"
      ]
     },
     "metadata": {},
     "output_type": "display_data"
    }
   ],
   "source": [
    "df['Liderinin Ad ve Soyadı'].value_counts().plot(kind='bar')\n",
    "plt.show()"
   ]
  },
  {
   "cell_type": "code",
   "execution_count": 35,
   "metadata": {},
   "outputs": [
    {
     "data": {
      "text/plain": [
       "(array([ 3.,  0.,  4.,  0.,  0.,  6.,  0., 14.,  0., 39.]),\n",
       " array([3. , 3.4, 3.8, 4.2, 4.6, 5. , 5.4, 5.8, 6.2, 6.6, 7. ]),\n",
       " <BarContainer object of 10 artists>)"
      ]
     },
     "execution_count": 35,
     "metadata": {},
     "output_type": "execute_result"
    },
    {
     "data": {
      "image/png": "[encoded data removed]",
      "text/plain": [
       "<Figure size 640x480 with 1 Axes>"
      ]
     },
     "metadata": {},
     "output_type": "display_data"
    }
   ],
   "source": [
    "plt.hist(df['Liderimizin anlatımını nasıl buldun?'])"
   ]
  }
 ],
 "metadata": {
  "kernelspec": {
   "display_name": "Python 3",
   "language": "python",
   "name": "python3"
  },
  "language_info": {
   "codemirror_mode": {
    "name": "ipython",
    "version": 3
   },
   "file_extension": ".py",
   "mimetype": "text/x-python",
   "name": "python",
   "nbconvert_exporter": "python",
   "pygments_lexer": "ipython3",
   "version": "3.11.2"
  },
  "orig_nbformat": 4
 },
 "nbformat": 4,
 "nbformat_minor": 2
}
