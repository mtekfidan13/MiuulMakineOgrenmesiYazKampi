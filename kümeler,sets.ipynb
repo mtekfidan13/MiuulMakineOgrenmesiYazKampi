{
 "cells": [
  {
   "cell_type": "markdown",
   "metadata": {},
   "source": [
    "## Kümeler - Sets\n",
    "##### Değiştirilebilir\n",
    "##### Eşsizlerdir \n",
    "##### Kapsayıcıdırlar \n",
    "##### Sırasızlardır"
   ]
  },
  {
   "cell_type": "code",
   "execution_count": 10,
   "metadata": {},
   "outputs": [
    {
     "data": {
      "text/plain": [
       "False"
      ]
     },
     "execution_count": 10,
     "metadata": {},
     "output_type": "execute_result"
    }
   ],
   "source": [
    "### Eşsiz olması ne demek, bir elemandan yalnızda bir adet bbulunabilir. \n",
    "### Kapsayıcı olması ne demek, her veri tipinden bulunabilir. \n",
    "### Değiştirilebilir olması ise, bir elemanı değiştirebilir, eleman ekleyebilir, eleman çıkarabilirsin. \n",
    "### Sırasız olması ne demek, sen sırasız olduğunda burada index numaralarını kullanamıyorsun demektir. \n",
    "\n",
    "\n",
    "my_set = {1,2,3,4,5,6,\"a\"}\n",
    "my_set1 = {1,2,3,4,5,6,7,8,9}\n",
    "\n",
    "# soru1 : set1 de olup, set2 de olmayanlar nelerdir.\n",
    "my_set.difference(my_set1)\n",
    "# soru2 : set2 de olup, set1 de olmayanlar nelerdir.\n",
    "my_set1.difference(my_set)\n",
    "\n",
    "## iki kümenin kesişimi\n",
    "# intersecion metotuyla kesişimleri gözükebilir. \n",
    "my_set.intersection(my_set1)\n",
    "## iki kümenin birleşimi -- union metodu\n",
    "\n",
    "my_set1.union(my_set)\n",
    "\n",
    "## iki kümnin kesişiminin boş olup olmadığını kontrol eden modül isdisjoint\n",
    "\n",
    "my_set.isdisjoint(my_set1)\n",
    "\n",
    "\n",
    "## not, kullanılan modüllerin başında 'is' ifadesi varsa bu süreçte true ya da false cevabı alacaksın.\n",
    "\n",
    "\n",
    "## issubset() modülünü kullanarak lbir kümenin diğerininalt kümesi olup olmadığını sorarız. "
   ]
  }
 ],
 "metadata": {
  "kernelspec": {
   "display_name": "Python 3",
   "language": "python",
   "name": "python3"
  },
  "language_info": {
   "codemirror_mode": {
    "name": "ipython",
    "version": 3
   },
   "file_extension": ".py",
   "mimetype": "text/x-python",
   "name": "python",
   "nbconvert_exporter": "python",
   "pygments_lexer": "ipython3",
   "version": "3.11.2"
  },
  "orig_nbformat": 4
 },
 "nbformat": 4,
 "nbformat_minor": 2
}
