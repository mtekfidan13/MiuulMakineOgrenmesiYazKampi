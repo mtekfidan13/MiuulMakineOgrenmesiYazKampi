{
 "cells": [
  {
   "cell_type": "markdown",
   "metadata": {},
   "source": [
    "return fonksiyonları, fonksiyon çıktılarını gidi olarak kullanmak amacıyla kullanılır.\n"
   ]
  },
  {
   "cell_type": "code",
   "execution_count": 5,
   "metadata": {},
   "outputs": [
    {
     "data": {
      "text/plain": [
       "100"
      ]
     },
     "execution_count": 5,
     "metadata": {},
     "output_type": "execute_result"
    }
   ],
   "source": [
    "## Return fonksiyonların çıktılarını kullanmak için, kullanılan bir değerdir, nasıl yani dersek\n",
    "# example: \n",
    "\n",
    "# def calculate(akım, direnc):\n",
    "#     print(akım*direnc)\n",
    "\n",
    "\n",
    "# calculate(5,2) * 10 # burada hata verdi, çünkü printle çıktı aldığımızda çıkan değer 'NoneType' olarak çıktı ve int ile 'NoneType' durumu karşılaştırmamıza veyahut işleme sokmamıza izin vermedi, vermeyecektir. \n",
    "\n",
    "# o zaman bu durumu çözmek için başka bir yol bulmalıyız. \n",
    "\n",
    "def calculate(akım, direnc):\n",
    "    return (akım*direnc)\n",
    "\n",
    "type((calculate(5,2)))\n",
    "\n",
    "calculate(1,10) * 10\n"
   ]
  }
 ],
 "metadata": {
  "kernelspec": {
   "display_name": "Python 3",
   "language": "python",
   "name": "python3"
  },
  "language_info": {
   "codemirror_mode": {
    "name": "ipython",
    "version": 3
   },
   "file_extension": ".py",
   "mimetype": "text/x-python",
   "name": "python",
   "nbconvert_exporter": "python",
   "pygments_lexer": "ipython3",
   "version": "3.11.2"
  },
  "orig_nbformat": 4
 },
 "nbformat": 4,
 "nbformat_minor": 2
}
