{
 "cells": [
  {
   "cell_type": "code",
   "execution_count": 1,
   "metadata": {},
   "outputs": [],
   "source": [
    "import numpy as np "
   ]
  },
  {
   "cell_type": "code",
   "execution_count": 6,
   "metadata": {},
   "outputs": [
    {
     "data": {
      "text/plain": [
       "array([1, 2, 3, 4])"
      ]
     },
     "execution_count": 6,
     "metadata": {},
     "output_type": "execute_result"
    }
   ],
   "source": [
    "# Pythonda bir listede eleman seçimi yaparken iki yol gördük, birisi normal index sayısını girme, diğeri ise slicing işlemi eleman aralığı girme ' 0:3 ' gibi, bunun haricinde bir de liste girmiştik Numpy'da, şimdi ise boolean ifadeyi destekleyecek bir yöntemle tanışıyoruz. \n",
    "\n",
    "\n",
    "v = np.array([1,2,3,4,5,6,7,8,9,10])\n",
    "\n",
    "v < 4\n",
    "\n",
    "v[v <= 4]\n",
    "\n",
    "#burada senaryolar artrılabilir, farklı farklı yöntemler kullanılabilir. \n"
   ]
  }
 ],
 "metadata": {
  "kernelspec": {
   "display_name": "Python 3",
   "language": "python",
   "name": "python3"
  },
  "language_info": {
   "codemirror_mode": {
    "name": "ipython",
    "version": 3
   },
   "file_extension": ".py",
   "mimetype": "text/x-python",
   "name": "python",
   "nbconvert_exporter": "python",
   "pygments_lexer": "ipython3",
   "version": "3.11.2"
  },
  "orig_nbformat": 4
 },
 "nbformat": 4,
 "nbformat_minor": 2
}
