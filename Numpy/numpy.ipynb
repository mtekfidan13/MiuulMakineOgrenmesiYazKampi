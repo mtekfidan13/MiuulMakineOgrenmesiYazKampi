{
 "cells": [
  {
   "cell_type": "markdown",
   "metadata": {},
   "source": [
    "NumPy ``` Numerical Python ``` ifadesinin kısaltılmış halidir. "
   ]
  },
  {
   "cell_type": "code",
   "execution_count": null,
   "metadata": {},
   "outputs": [],
   "source": [
    "# Neden NumPy\n",
    "# NumPy array oluşturmak\n",
    "# NumPy arrayin özellikleri \n",
    "# Yeniden şekiilendirme\n",
    "# ındex seçimi\n",
    "# slicing \n",
    "# Fancy Index\n",
    "# NumPy'da koşullu işlemler\n",
    "# Matematiksel işlemler\n",
    "\n",
    "# Numpy arrayın listelerden farklılaştığı noktalar arasında önemli iki nokta vardır. Bunlardan bir tanesi verimli veri saklanması, ikincisi ise yüksek seviyeden işlemlerdir.  \n",
    "\n",
    "# Nump içersinde veri tutarken, içerisinde tuttuğu veriyi fixtype olarak (aynı tür) tutarak, burdaki verilerin daha kolay tutulmasını sağlar.  Listeler her bir bilginin veri tiplerini, boyut bilgilerini arı ayrı tutarken numpy der ki sabit tipte veri tutarım, böylece her bir veri için veri bilgisi, boyut bilgisi veyahut diğer meta bilgileri tutmam. \n",
    "\n",
    "\n"
   ]
  },
  {
   "cell_type": "code",
   "execution_count": 5,
   "metadata": {},
   "outputs": [
    {
     "name": "stdout",
     "output_type": "stream",
     "text": [
      "[2, 6, 12, 20]\n",
      "<class 'numpy.ndarray'>\n"
     ]
    }
   ],
   "source": [
    "import numpy as np\n",
    "\n",
    "a = [1,2,3,4]\n",
    "b = [2,3,4,5]\n",
    "ab = []\n",
    "for i in range(0, len(a)):\n",
    "    ab.append(a[i] * b[i])\n",
    "print (ab)\n",
    "\n",
    "\n",
    "c = np.array([1,2,3,4])\n",
    "d = np.array([2,3,4,5])\n",
    "\n",
    "print(type(c * d)) \n",
    "\n",
    "# numpy listelere göre daha hızlı ve yüksek seviyede işler yapabilmeyi kolaylaştırdığı için tercih edilir. "
   ]
  }
 ],
 "metadata": {
  "kernelspec": {
   "display_name": "Python 3",
   "language": "python",
   "name": "python3"
  },
  "language_info": {
   "codemirror_mode": {
    "name": "ipython",
    "version": 3
   },
   "file_extension": ".py",
   "mimetype": "text/x-python",
   "name": "python",
   "nbconvert_exporter": "python",
   "pygments_lexer": "ipython3",
   "version": "3.11.2"
  },
  "orig_nbformat": 4
 },
 "nbformat": 4,
 "nbformat_minor": 2
}
