{
 "cells": [
  {
   "cell_type": "code",
   "execution_count": 1,
   "metadata": {},
   "outputs": [],
   "source": [
    "import numpy as np"
   ]
  },
  {
   "cell_type": "code",
   "execution_count": 10,
   "metadata": {},
   "outputs": [
    {
     "data": {
      "text/plain": [
       "array([[11.05092727, 10.59845089,  6.99009125,  8.49104366],\n",
       "       [ 9.27880093,  9.87537182, 13.7807159 , 10.78517522],\n",
       "       [16.65501806, 11.60988057, 17.12358467, 16.50555224]])"
      ]
     },
     "execution_count": 10,
     "metadata": {},
     "output_type": "execute_result"
    }
   ],
   "source": [
    "# NumPy arraylarini oluşturma işlemleri \n",
    "# Nump arraylari ,pythondaki veri yapılarından bir tanesidir.  \n",
    "# Pratikte bu NumPy arraylari sıfırdan oluşturulmaz, bu çalışmalar doğrultusunda bizlere verilen Arraylerdendir. \n",
    "\n",
    "# NumPy arraylarini oluşturma işllemleri \n",
    "np.array([1,2,3,4])\n",
    "\n",
    "np.zeros(5, dtype=str)\n",
    "\n",
    "np.random.randint(0,15,3)\n",
    "\n",
    "np.random.normal(10, 4, (3,4))\n",
    "\n"
   ]
  },
  {
   "cell_type": "code",
   "execution_count": 12,
   "metadata": {},
   "outputs": [
    {
     "data": {
      "text/plain": [
       "(5,)"
      ]
     },
     "execution_count": 12,
     "metadata": {},
     "output_type": "execute_result"
    }
   ],
   "source": [
    "# NumPy arrayin özellikleri \n",
    "a = np.random.randint(15, size=5)\n",
    "a.ndim  # ndim ifadesi, arrayin boyut sayısını öğrenmek amacıyla kullanılan bir fonksiyondur. \n",
    "a.shape # shape ifadesi boyut bilgisini yani, içerisindeki eleman sayısını sunmaktadır. \n",
    "a.size # toplam eleman sayısını vermektedir. \n",
    "a.dtype # bufonksiyonla numpy arrayinin içerisindeki veri tipi öğrenilmiş olur.  \n"
   ]
  },
  {
   "cell_type": "code",
   "execution_count": 15,
   "metadata": {},
   "outputs": [
    {
     "data": {
      "text/plain": [
       "(3, 4)"
      ]
     },
     "execution_count": 15,
     "metadata": {},
     "output_type": "execute_result"
    }
   ],
   "source": [
    "b = np.random.randint(1, 20, (3,4))\n",
    "b.ndim\n",
    "b.shape"
   ]
  }
 ],
 "metadata": {
  "kernelspec": {
   "display_name": "Python 3",
   "language": "python",
   "name": "python3"
  },
  "language_info": {
   "codemirror_mode": {
    "name": "ipython",
    "version": 3
   },
   "file_extension": ".py",
   "mimetype": "text/x-python",
   "name": "python",
   "nbconvert_exporter": "python",
   "pygments_lexer": "ipython3",
   "version": "3.11.2"
  },
  "orig_nbformat": 4
 },
 "nbformat": 4,
 "nbformat_minor": 2
}
