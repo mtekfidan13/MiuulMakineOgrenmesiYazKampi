{
 "cells": [
  {
   "cell_type": "code",
   "execution_count": 1,
   "metadata": {},
   "outputs": [],
   "source": [
    "import numpy as np"
   ]
  },
  {
   "cell_type": "code",
   "execution_count": 10,
   "metadata": {},
   "outputs": [
    {
     "data": {
      "text/plain": [
       "array([[2, 6, 9],\n",
       "       [9, 8, 7],\n",
       "       [8, 4, 8]])"
      ]
     },
     "execution_count": 10,
     "metadata": {},
     "output_type": "execute_result"
    }
   ],
   "source": [
    "# Elimizdeki bir numpy arrayinin boyutunu değiştirmek istediğimizde reshaping metodunu (yeniden şekillendirme) kullanırız.\n",
    "\n",
    "# Example: \n",
    "a = np.random.randint(1,10,size=3)\n",
    "\n",
    "np.random.randint(1,10,size=9).reshape(3,3)"
   ]
  },
  {
   "cell_type": "code",
   "execution_count": 18,
   "metadata": {},
   "outputs": [
    {
     "data": {
      "text/plain": [
       "array([[16, 21,  5, 10, 13],\n",
       "       [23, 13,  1, 11,  3],\n",
       "       [ 7, 13, 19, 23, 10],\n",
       "       [20,  4, 19,  1,  7]])"
      ]
     },
     "execution_count": 18,
     "metadata": {},
     "output_type": "execute_result"
    }
   ],
   "source": [
    "# Burada bilmem gereken konulardan birisi reshape fonksiyonunu yaparken, yeni oluşturacağım arrayin elemanlarının çarpımı diğer arrayin eleman sayısına eşit olması gerekir. Örneğin bir array alalım ve buradaki arraydeki eleman sayısı 20 olsun, diğer tarafta 5*4 veya 4*5 maks arrayler oluşabilir. \n",
    "\n",
    "b = np.random.randint(1,25,20)\n",
    "b.reshape(4,5)"
   ]
  }
 ],
 "metadata": {
  "kernelspec": {
   "display_name": "Python 3",
   "language": "python",
   "name": "python3"
  },
  "language_info": {
   "codemirror_mode": {
    "name": "ipython",
    "version": 3
   },
   "file_extension": ".py",
   "mimetype": "text/x-python",
   "name": "python",
   "nbconvert_exporter": "python",
   "pygments_lexer": "ipython3",
   "version": "3.11.2"
  },
  "orig_nbformat": 4
 },
 "nbformat": 4,
 "nbformat_minor": 2
}
