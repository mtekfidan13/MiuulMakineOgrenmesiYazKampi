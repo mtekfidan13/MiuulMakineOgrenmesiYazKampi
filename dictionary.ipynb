{
 "cells": [
  {
   "cell_type": "markdown",
   "metadata": {},
   "source": [
    "#### Dictionary \n",
    "##### Değiştirilebilir\n",
    "##### Kapsayıcı\n",
    "##### Key - Value "
   ]
  },
  {
   "cell_type": "code",
   "execution_count": 6,
   "metadata": {},
   "outputs": [
    {
     "name": "stdout",
     "output_type": "stream",
     "text": [
      "Mustafa\n",
      "Mustafa\n"
     ]
    }
   ],
   "source": [
    "my_dictioanry = {\"name\": \"Mustafa\", \"surname\": \"Tekfidan\"}\n",
    "my_dictioanry[\"name\"]\n",
    "\n",
    "\n",
    "\n",
    "### Key sorgulama\n",
    "\"name\" in my_dictioanry\n",
    "\n",
    "## Key'e göre Value değerine erişme işlemi \n",
    "print(my_dictioanry[\"name\"]) ## bu Key'den value erişmedeki birinci yol \n",
    "print(my_dictioanry.get(\"name\")) ## bu Key'den value eişmedeki ikinci yol \n"
   ]
  },
  {
   "cell_type": "code",
   "execution_count": 12,
   "metadata": {},
   "outputs": [
    {
     "data": {
      "text/plain": [
       "{'name': 'Ali', 'surname': 'Tekfidan'}"
      ]
     },
     "execution_count": 12,
     "metadata": {},
     "output_type": "execute_result"
    }
   ],
   "source": [
    "## bir sözlük yapısındaki tüm key değerlerine erişmek. \n",
    "my_dictioanry.keys()\n",
    "## bir sözlük yapısı içeriindeki tüm valuelara erişmek\n",
    "my_dictioanry.values() \n",
    "\n",
    "## Tüm çiftleri Tuple halinde listeye çevirme:\n",
    "my_dictioanry.items()\n",
    "\n",
    "## Key-Value değerini güncellemek:\n",
    "my_dictioanry.update({\"name\":\"Ali\"})\n",
    "my_dictioanry\n",
    "\n",
    "## key value değerinde eğer yoksa içeriisnde yen, key value değerini update metodu ile ekler."
   ]
  }
 ],
 "metadata": {
  "kernelspec": {
   "display_name": "Python 3",
   "language": "python",
   "name": "python3"
  },
  "language_info": {
   "codemirror_mode": {
    "name": "ipython",
    "version": 3
   },
   "file_extension": ".py",
   "mimetype": "text/x-python",
   "name": "python",
   "nbconvert_exporter": "python",
   "pygments_lexer": "ipython3",
   "version": "3.11.2"
  },
  "orig_nbformat": 4
 },
 "nbformat": 4,
 "nbformat_minor": 2
}
