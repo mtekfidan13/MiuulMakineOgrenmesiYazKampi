{
 "cells": [
  {
   "cell_type": "code",
   "execution_count": 1,
   "metadata": {},
   "outputs": [],
   "source": [
    "import pandas as pd \n",
    "import seaborn as sns"
   ]
  },
  {
   "cell_type": "code",
   "execution_count": 2,
   "metadata": {},
   "outputs": [],
   "source": [
    "df = sns.load_dataset(\"titanic\")"
   ]
  },
  {
   "cell_type": "code",
   "execution_count": null,
   "metadata": {},
   "outputs": [],
   "source": [
    "# apply satın veya sutünlarda fonksiyon çalıştımamıza olanak sağlar. \n",
    "# Lambda ise tek satırda fonksiyon tanımlama işine yardım eder. \n"
   ]
  },
  {
   "cell_type": "code",
   "execution_count": 7,
   "metadata": {},
   "outputs": [],
   "source": [
    "df[\"age2\"] = df[\"age\"] * 2\n",
    "df[\"age3\"] = df[\"age\"] * 3"
   ]
  },
  {
   "cell_type": "code",
   "execution_count": 9,
   "metadata": {},
   "outputs": [
    {
     "name": "stdout",
     "output_type": "stream",
     "text": [
      "0      22.0\n",
      "1      38.0\n",
      "2      26.0\n",
      "3      35.0\n",
      "4      35.0\n",
      "       ... \n",
      "886    27.0\n",
      "887    19.0\n",
      "888     NaN\n",
      "889    26.0\n",
      "890    32.0\n",
      "Name: age, Length: 891, dtype: float64\n",
      "0      44.0\n",
      "1      76.0\n",
      "2      52.0\n",
      "3      70.0\n",
      "4      70.0\n",
      "       ... \n",
      "886    54.0\n",
      "887    38.0\n",
      "888     NaN\n",
      "889    52.0\n",
      "890    64.0\n",
      "Name: age2, Length: 891, dtype: float64\n",
      "0       66.0\n",
      "1      114.0\n",
      "2       78.0\n",
      "3      105.0\n",
      "4      105.0\n",
      "       ...  \n",
      "886     81.0\n",
      "887     57.0\n",
      "888      NaN\n",
      "889     78.0\n",
      "890     96.0\n",
      "Name: age3, Length: 891, dtype: float64\n"
     ]
    }
   ],
   "source": [
    "# Şimdi işlemleri bir döngü yardımıyla bir de apply&lambda yardımıyla çözelim:\n",
    "\n",
    "for col in df.columns:\n",
    "    if \"age\" in col:\n",
    "        print(df[col])"
   ]
  },
  {
   "cell_type": "code",
   "execution_count": 10,
   "metadata": {},
   "outputs": [
    {
     "data": {
      "text/html": [
       "<div>\n",
       "<style scoped>\n",
       "    .dataframe tbody tr th:only-of-type {\n",
       "        vertical-align: middle;\n",
       "    }\n",
       "\n",
       "    .dataframe tbody tr th {\n",
       "        vertical-align: top;\n",
       "    }\n",
       "\n",
       "    .dataframe thead th {\n",
       "        text-align: right;\n",
       "    }\n",
       "</style>\n",
       "<table border=\"1\" class=\"dataframe\">\n",
       "  <thead>\n",
       "    <tr style=\"text-align: right;\">\n",
       "      <th></th>\n",
       "      <th>age</th>\n",
       "      <th>age2</th>\n",
       "      <th>age3</th>\n",
       "    </tr>\n",
       "  </thead>\n",
       "  <tbody>\n",
       "    <tr>\n",
       "      <th>0</th>\n",
       "      <td>2.2</td>\n",
       "      <td>4.4</td>\n",
       "      <td>6.6</td>\n",
       "    </tr>\n",
       "    <tr>\n",
       "      <th>1</th>\n",
       "      <td>3.8</td>\n",
       "      <td>7.6</td>\n",
       "      <td>11.4</td>\n",
       "    </tr>\n",
       "    <tr>\n",
       "      <th>2</th>\n",
       "      <td>2.6</td>\n",
       "      <td>5.2</td>\n",
       "      <td>7.8</td>\n",
       "    </tr>\n",
       "    <tr>\n",
       "      <th>3</th>\n",
       "      <td>3.5</td>\n",
       "      <td>7.0</td>\n",
       "      <td>10.5</td>\n",
       "    </tr>\n",
       "    <tr>\n",
       "      <th>4</th>\n",
       "      <td>3.5</td>\n",
       "      <td>7.0</td>\n",
       "      <td>10.5</td>\n",
       "    </tr>\n",
       "  </tbody>\n",
       "</table>\n",
       "</div>"
      ],
      "text/plain": [
       "   age  age2  age3\n",
       "0  2.2   4.4   6.6\n",
       "1  3.8   7.6  11.4\n",
       "2  2.6   5.2   7.8\n",
       "3  3.5   7.0  10.5\n",
       "4  3.5   7.0  10.5"
      ]
     },
     "execution_count": 10,
     "metadata": {},
     "output_type": "execute_result"
    }
   ],
   "source": [
    "# yukarıdaki metot, for kullanılarak yazılmış metottur. \n",
    "# Buna şimdi 'apply' and 'lambda' ekleyerek devam edelim....\n",
    "\n",
    "df[[\"age\",\"age2\",\"age3\"]].apply(lambda x : x/10).head()\n",
    "\n",
    "# Burada tek satırda işlemi hallettim. "
   ]
  },
  {
   "cell_type": "code",
   "execution_count": null,
   "metadata": {},
   "outputs": [],
   "source": [
    "# apply fonksiyonu bir döngü yazmadan değişkenlerde gezme fırsatı sağlıyor. \n",
    "# apply sadece lambda fonksiyonunu değil bununla birlikte, normal bir fonksiyonu da çalıştırmaya olanak sağlar.\n",
    "\n"
   ]
  }
 ],
 "metadata": {
  "kernelspec": {
   "display_name": "Python 3",
   "language": "python",
   "name": "python3"
  },
  "language_info": {
   "codemirror_mode": {
    "name": "ipython",
    "version": 3
   },
   "file_extension": ".py",
   "mimetype": "text/x-python",
   "name": "python",
   "nbconvert_exporter": "python",
   "pygments_lexer": "ipython3",
   "version": "3.11.2"
  },
  "orig_nbformat": 4
 },
 "nbformat": 4,
 "nbformat_minor": 2
}
