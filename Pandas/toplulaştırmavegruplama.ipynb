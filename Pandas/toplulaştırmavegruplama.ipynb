{
 "cells": [
  {
   "cell_type": "code",
   "execution_count": 1,
   "metadata": {},
   "outputs": [],
   "source": [
    "import pandas as pd\n",
    "import seaborn as sns"
   ]
  },
  {
   "cell_type": "code",
   "execution_count": 2,
   "metadata": {},
   "outputs": [],
   "source": [
    "df = sns.load_dataset(\"titanic\")"
   ]
  },
  {
   "cell_type": "code",
   "execution_count": null,
   "metadata": {},
   "outputs": [],
   "source": [
    "# toplulaştırma ne demek buna bakacak olursak: \n",
    "# bir veri yapısı içerisindeki bulunan değerleri toplu bir şekilde ifade etmeye toplulaştırma işlemleri denir.\n",
    "# Toplulaştırma fonksiyonları:\n",
    "\n",
    "# - count()\n",
    "# - first()\n",
    "# - last()\n",
    "# - mean()\n",
    "# - median()\n",
    "# - min()\n",
    "# - max()\n",
    "# - std()\n",
    "# - var()\n",
    "# - sum()\n",
    "# - pivot table\n",
    "\n"
   ]
  },
  {
   "cell_type": "code",
   "execution_count": 3,
   "metadata": {},
   "outputs": [
    {
     "data": {
      "text/plain": [
       "29.69911764705882"
      ]
     },
     "execution_count": 3,
     "metadata": {},
     "output_type": "execute_result"
    }
   ],
   "source": [
    "# Yaş ortalamasını öğrenmek istediğimde:\n",
    "\n",
    "df[\"age\"].mean()"
   ]
  },
  {
   "cell_type": "code",
   "execution_count": 7,
   "metadata": {},
   "outputs": [
    {
     "data": {
      "text/plain": [
       "30.72664459161148"
      ]
     },
     "execution_count": 7,
     "metadata": {},
     "output_type": "execute_result"
    }
   ],
   "source": [
    "# peki yaş ortalamasını cinsiyete göre yapmak istersem?\n",
    "# bu aşağıdaki el ile girmiş olduğum değer.\n",
    "\n",
    "df[df[\"sex\"] == \"male\"][\"age\"].mean()"
   ]
  },
  {
   "cell_type": "code",
   "execution_count": null,
   "metadata": {},
   "outputs": [],
   "source": [
    "# birde burada femla ve male olarak otomatik olaraak python tarafından ayırırsa?"
   ]
  }
 ],
 "metadata": {
  "kernelspec": {
   "display_name": "Python 3",
   "language": "python",
   "name": "python3"
  },
  "language_info": {
   "codemirror_mode": {
    "name": "ipython",
    "version": 3
   },
   "file_extension": ".py",
   "mimetype": "text/x-python",
   "name": "python",
   "nbconvert_exporter": "python",
   "pygments_lexer": "ipython3",
   "version": "3.11.2"
  },
  "orig_nbformat": 4
 },
 "nbformat": 4,
 "nbformat_minor": 2
}
