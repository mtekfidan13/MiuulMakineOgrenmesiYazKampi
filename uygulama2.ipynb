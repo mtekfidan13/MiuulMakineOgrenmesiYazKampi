{
 "cells": [
  {
   "cell_type": "code",
   "execution_count": 3,
   "metadata": {},
   "outputs": [
    {
     "name": "stdout",
     "output_type": "stream",
     "text": [
      "[['John', 'Venessa'], ['Mark', 'Mariam']]\n"
     ]
    }
   ],
   "source": [
    "# uygulama: \n",
    "# divide_students fonksiyon yazınız\n",
    "# Çift indexte yer alan öğrenciler bir listeye, \n",
    "# Tek indexte bulunan öğrenciler farklı bir listeye,\n",
    "# son olarakta bu iki listeyi tek bir liste olarak vereceğiz.\n",
    "\n",
    "\n",
    "students = [\"John\", \"Mark\", \"Venessa\", \"Mariam\"]\n",
    "even_list = []\n",
    "odd_list =[]\n",
    "result_list = []\n",
    "\n",
    "for index, student in enumerate(students):\n",
    "    if (index % 2 == 0):\n",
    "        even_list.append(student) # çift indexli öğrenciyi ekleme\n",
    "    else:\n",
    "        odd_list.append(student) # tek indexli öğrenciyi başka bir listen\n",
    "\n",
    "\n",
    "result_list.append(even_list)\n",
    "\n",
    "result_list.append(odd_list)\n",
    "\n",
    "print(result_list)\n",
    "    "
   ]
  }
 ],
 "metadata": {
  "kernelspec": {
   "display_name": "Python 3",
   "language": "python",
   "name": "python3"
  },
  "language_info": {
   "codemirror_mode": {
    "name": "ipython",
    "version": 3
   },
   "file_extension": ".py",
   "mimetype": "text/x-python",
   "name": "python",
   "nbconvert_exporter": "python",
   "pygments_lexer": "ipython3",
   "version": "3.11.2"
  },
  "orig_nbformat": 4
 },
 "nbformat": 4,
 "nbformat_minor": 2
}
