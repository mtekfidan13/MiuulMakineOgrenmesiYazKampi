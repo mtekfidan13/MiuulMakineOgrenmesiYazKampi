{
 "cells": [
  {
   "cell_type": "markdown",
   "metadata": {},
   "source": [
    "Bu uygulamadaki amacımız, string değiştiren bir fonkison yazmak istiyoruz. "
   ]
  },
  {
   "cell_type": "code",
   "execution_count": 32,
   "metadata": {},
   "outputs": [
    {
     "data": {
      "text/plain": [
       "'MuStAfA TeKfIdAn'"
      ]
     },
     "execution_count": 32,
     "metadata": {},
     "output_type": "execute_result"
    }
   ],
   "source": [
    "# uygulama: Uygulamadaki amacımız verilen bir metindeki tek indextekileri büyüt, .ift indextekiler küçük olacak şekilde kalacak bir kod yazmanı istiyoruz. \n",
    "\n",
    "\n",
    "metin = input()\n",
    "\n",
    "\n",
    "def alternating(string):\n",
    "    newString = \"\"\n",
    "    for stringIndex in range(len(string)):\n",
    "        if stringIndex % 2 == 0:\n",
    "            newString += string[stringIndex].upper()\n",
    "        else:\n",
    "            newString += string[stringIndex].lower()\n",
    "    return newString\n",
    "\n",
    "alternating(metin)\n",
    "\n",
    "\n"
   ]
  }
 ],
 "metadata": {
  "kernelspec": {
   "display_name": "Python 3",
   "language": "python",
   "name": "python3"
  },
  "language_info": {
   "codemirror_mode": {
    "name": "ipython",
    "version": 3
   },
   "file_extension": ".py",
   "mimetype": "text/x-python",
   "name": "python",
   "nbconvert_exporter": "python",
   "pygments_lexer": "ipython3",
   "version": "3.11.2"
  },
  "orig_nbformat": 4
 },
 "nbformat": 4,
 "nbformat_minor": 2
}
