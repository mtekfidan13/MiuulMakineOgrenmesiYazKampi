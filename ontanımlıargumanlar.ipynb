{
 "cells": [
  {
   "cell_type": "markdown",
   "metadata": {},
   "source": [
    "ön tanımlı fonksiyonlar, bazı noktolarda bizlerin işlerini kolaylaştırmak amacıyla kullanılır. Örneğin print fonksiyonun bile 4 adet ön tanımlı elemanı vardır.  "
   ]
  },
  {
   "cell_type": "code",
   "execution_count": 4,
   "metadata": {},
   "outputs": [
    {
     "name": "stdout",
     "output_type": "stream",
     "text": [
      "Merhaba\n",
      "ali\n",
      "veli\n",
      "\n",
      "\n",
      "Mustafa\n",
      "ali\n",
      "veli\n"
     ]
    }
   ],
   "source": [
    "def greetings(string = \"Merhaba\"):\n",
    "    print(string)\n",
    "    print(\"ali\")\n",
    "    print(\"veli\")\n",
    "\n",
    "greetings()\n",
    "print(\"\\n\")\n",
    "greetings(string=\"Mustafa\")"
   ]
  }
 ],
 "metadata": {
  "kernelspec": {
   "display_name": "Python 3",
   "language": "python",
   "name": "python3"
  },
  "language_info": {
   "codemirror_mode": {
    "name": "ipython",
    "version": 3
   },
   "file_extension": ".py",
   "mimetype": "text/x-python",
   "name": "python",
   "nbconvert_exporter": "python",
   "pygments_lexer": "ipython3",
   "version": "3.11.2"
  },
  "orig_nbformat": 4
 },
 "nbformat": 4,
 "nbformat_minor": 2
}
