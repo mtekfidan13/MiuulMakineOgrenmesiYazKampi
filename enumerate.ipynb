{
 "cells": [
  {
   "cell_type": "markdown",
   "metadata": {},
   "source": [
    "``` enumerate ``` otomatik counter/Indexer ile for loop"
   ]
  },
  {
   "cell_type": "code",
   "execution_count": 3,
   "metadata": {},
   "outputs": [
    {
     "name": "stdout",
     "output_type": "stream",
     "text": [
      "0 john\n",
      "1 mark\n",
      "2 Venessa\n",
      "3 Mariam\n",
      "\n",
      "\n",
      "2 john\n",
      "3 mark\n",
      "4 Venessa\n",
      "5 Mariam\n"
     ]
    }
   ],
   "source": [
    "# üzerinde gezilebilen veri tiplerinde, bu elemanlara işlem uygularken, aynı zamanda işlem uygulanan elemanların index bilgisini tutmamı sağlayan yapıdır. \n",
    "\n",
    "\n",
    "students = [\"john\", \"mark\", \"Venessa\", \"Mariam\"]\n",
    "\n",
    "for index, student in enumerate(students):\n",
    "    print(index, student)\n",
    "\n",
    "print(\"\\n\")\n",
    "\n",
    "# hemen yukarıdaki kodun çıktısında index numarası sıfırdan başlamaktadır. Eğer bunu değiştirmek istersek, enumerate(students, 'başlamak istediği değer')\n",
    "\n",
    "# example:\n",
    "\n",
    "for index, student in enumerate(students, 2):\n",
    "    print(index, student)\n"
   ]
  }
 ],
 "metadata": {
  "kernelspec": {
   "display_name": "Python 3",
   "language": "python",
   "name": "python3"
  },
  "language_info": {
   "codemirror_mode": {
    "name": "ipython",
    "version": 3
   },
   "file_extension": ".py",
   "mimetype": "text/x-python",
   "name": "python",
   "nbconvert_exporter": "python",
   "pygments_lexer": "ipython3",
   "version": "3.11.2"
  },
  "orig_nbformat": 4
 },
 "nbformat": 4,
 "nbformat_minor": 2
}
