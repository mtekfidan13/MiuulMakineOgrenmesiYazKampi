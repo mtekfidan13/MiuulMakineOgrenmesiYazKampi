{
 "cells": [
  {
   "cell_type": "markdown",
   "metadata": {},
   "source": [
    "zip farklı fonksiyonların elemanlarını eşlemek beraber kullanılmasını sağlamak amacıyla kullanılır. "
   ]
  },
  {
   "cell_type": "code",
   "execution_count": 1,
   "metadata": {},
   "outputs": [
    {
     "data": {
      "text/plain": [
       "[(1, 'ali', 'ankara'),\n",
       " (2, 'veli', 'istanbul'),\n",
       " (3, 'ayşe', 'konya'),\n",
       " (4, 'fatma', 'aksaray')]"
      ]
     },
     "execution_count": 1,
     "metadata": {},
     "output_type": "execute_result"
    }
   ],
   "source": [
    "# burada şu bilinmelidir. zip fonkisyonunun türünü biz belli ederiz. Daha sonraki süreç içerisinde de, eşleme yaparken, index numaraları eşit olarak eşleme yapar. \n",
    "\n",
    "# example:\n",
    "\n",
    "myList = [1,2,3,4]\n",
    "myList2 = [\"ali\", \"veli\", \"ayşe\", \"fatma\"]\n",
    "myList3 = [\"ankara\", \"istanbul\", \"konya\", \"aksaray\"]\n",
    "\n",
    "list(zip(myList,myList2,myList3))"
   ]
  }
 ],
 "metadata": {
  "kernelspec": {
   "display_name": "Python 3",
   "language": "python",
   "name": "python3"
  },
  "language_info": {
   "codemirror_mode": {
    "name": "ipython",
    "version": 3
   },
   "file_extension": ".py",
   "mimetype": "text/x-python",
   "name": "python",
   "nbconvert_exporter": "python",
   "pygments_lexer": "ipython3",
   "version": "3.11.2"
  },
  "orig_nbformat": 4
 },
 "nbformat": 4,
 "nbformat_minor": 2
}
