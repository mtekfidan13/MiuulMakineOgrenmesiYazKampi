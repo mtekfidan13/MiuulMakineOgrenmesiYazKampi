{
 "cells": [
  {
   "cell_type": "markdown",
   "metadata": {},
   "source": [
    "### Listeler \n",
    "##### Değiştirilebilir.\n",
    "##### Sıralı, index işlmeleri yapılabilir.\n",
    "##### Kapsayıcıdır. "
   ]
  },
  {
   "cell_type": "code",
   "execution_count": 2,
   "metadata": {},
   "outputs": [
    {
     "name": "stdout",
     "output_type": "stream",
     "text": [
      "tekfidan\n"
     ]
    }
   ],
   "source": [
    "# Listeler kapsayıcıdr, içerisinde birden fazla veri yapısını tutabilir. \n",
    "myList = [\"mustafa\", \"tekfidan\", \"Ali\",\"veli\", \"deli\"]\n",
    "\n",
    "print(myList[1])"
   ]
  },
  {
   "cell_type": "code",
   "execution_count": 18,
   "metadata": {},
   "outputs": [
    {
     "name": "stdout",
     "output_type": "stream",
     "text": [
      "['mustafa', 'tekfidan', 105]\n",
      "['mustafa', 'tekfidan', 105]\n"
     ]
    }
   ],
   "source": [
    "## Liste metotları \n",
    "\n",
    "dir(myList)\n",
    "\n",
    "# len metotu, listedeki elemanların sayılarını öğrenmek için kullanılır.\n",
    "\n",
    "len(myList)\n",
    "\n",
    "\n",
    "## append metotu listelere eleman eklemek için kullanılır. \n",
    "\n",
    "#myList.append(\"sssss\")\n",
    "print(myList)\n",
    "\n",
    "#listelerde bir elemandan birden fazla olmasında sıkıntı yoktur. \n",
    "\n",
    "\n",
    "## pop metodu, indexe göre eleman silmekte kullanılır. \n",
    "\n",
    "myList.pop(-1)\n",
    "\n",
    "\n",
    "# insert: endexe ekler\n",
    "myList.insert(2, 105)\n",
    "print(myList)\n"
   ]
  }
 ],
 "metadata": {
  "kernelspec": {
   "display_name": "Python 3",
   "language": "python",
   "name": "python3"
  },
  "language_info": {
   "codemirror_mode": {
    "name": "ipython",
    "version": 3
   },
   "file_extension": ".py",
   "mimetype": "text/x-python",
   "name": "python",
   "nbconvert_exporter": "python",
   "pygments_lexer": "ipython3",
   "version": "3.11.2"
  },
  "orig_nbformat": 4
 },
 "nbformat": 4,
 "nbformat_minor": 2
}
