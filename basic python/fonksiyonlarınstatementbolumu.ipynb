{
 "cells": [
  {
   "cell_type": "code",
   "execution_count": null,
   "metadata": {},
   "outputs": [],
   "source": [
    "# pythonda fonksiyonların yapısı şu şekilde olacaktır. \n",
    "\n",
    "# def function_Name(arguments or parameters):\n",
    "#      statements...\n"
   ]
  }
 ],
 "metadata": {
  "language_info": {
   "name": "python"
  },
  "orig_nbformat": 4
 },
 "nbformat": 4,
 "nbformat_minor": 2
}
