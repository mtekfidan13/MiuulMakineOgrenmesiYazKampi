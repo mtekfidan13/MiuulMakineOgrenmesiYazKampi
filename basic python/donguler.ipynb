{
 "cells": [
  {
   "cell_type": "markdown",
   "metadata": {},
   "source": [
    "Döngüler, bir durumu defalarca kez tekrar etmeden, daha kolay şekilde birden çok işi yapmamızı sağlayan durumlardır. "
   ]
  },
  {
   "cell_type": "code",
   "execution_count": 4,
   "metadata": {},
   "outputs": [
    {
     "name": "stdout",
     "output_type": "stream",
     "text": [
      "ALI\n",
      "VELI\n",
      "MUSTAFA\n",
      "HACI\n",
      "SEMA\n",
      "KÜBRA\n"
     ]
    }
   ],
   "source": [
    "# örneği elinde 10 adet öğrenci isminin bulunduğu bir liste bulunsun, bu liste içerisindeki tüm değerleri ekrana yazdırmak istersen, bütün değerleri tek tek yazdırmak yerine döngüleri kullanbilirisin.\n",
    "\n",
    "# example:\n",
    "\n",
    "students = [\"ali\", \"veli\", \"mustafa\",\"hacı\",\"sema\",\"kübra\"]\n",
    "\n",
    "for i in students:\n",
    "    print(i.upper())\n",
    "\n",
    "#burada döngülerde gezerken, her bir elemana başka bir işlem ekleyebilir ve sonuçlarını görebilirsin."
   ]
  }
 ],
 "metadata": {
  "kernelspec": {
   "display_name": "Python 3",
   "language": "python",
   "name": "python3"
  },
  "language_info": {
   "codemirror_mode": {
    "name": "ipython",
    "version": 3
   },
   "file_extension": ".py",
   "mimetype": "text/x-python",
   "name": "python",
   "nbconvert_exporter": "python",
   "pygments_lexer": "ipython3",
   "version": "3.11.2"
  },
  "orig_nbformat": 4
 },
 "nbformat": 4,
 "nbformat_minor": 2
}
