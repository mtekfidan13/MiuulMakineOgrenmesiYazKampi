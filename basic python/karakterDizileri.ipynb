{
 "cells": [
  {
   "cell_type": "markdown",
   "metadata": {},
   "source": [
    "## Karakter Dizileri"
   ]
  },
  {
   "cell_type": "code",
   "execution_count": 1,
   "metadata": {},
   "outputs": [
    {
     "data": {
      "text/plain": [
       "str"
      ]
     },
     "execution_count": 1,
     "metadata": {},
     "output_type": "execute_result"
    }
   ],
   "source": [
    "name = \"Mustafa\"\n",
    "type(name)"
   ]
  },
  {
   "cell_type": "code",
   "execution_count": 3,
   "metadata": {},
   "outputs": [
    {
     "name": "stdout",
     "output_type": "stream",
     "text": [
      "Mustafa Tekfidanile Python öğreniyorum serisine başlamak için, bu eğitim içerikleri tüketiliyordur\n",
      "Bunun yanı sıra, miuul'un yaz okulu için bu içerikler tüketilmektedir.\n"
     ]
    }
   ],
   "source": [
    "longStr = \"\"\"Mustafa Tekfidanile Python öğreniyorum serisine başlamak için, bu eğitim içerikleri tüketiliyordur\n",
    "Bunun yanı sıra, miuul'un yaz okulu için bu içerikler tüketilmektedir.\"\"\"\n",
    "\n",
    "print(longStr)"
   ]
  },
  {
   "cell_type": "code",
   "execution_count": 12,
   "metadata": {},
   "outputs": [
    {
     "name": "stdout",
     "output_type": "stream",
     "text": [
      "M\n",
      "u\n",
      "s\n",
      "t\n",
      "a\n",
      "f\n",
      "a\n",
      "afatsuM\n",
      "sta\n"
     ]
    },
    {
     "data": {
      "text/plain": [
       "True"
      ]
     },
     "execution_count": 12,
     "metadata": {},
     "output_type": "execute_result"
    }
   ],
   "source": [
    "for i in name:\n",
    "    print(i)\n",
    "\n",
    "## Karakterlerde Slice işlemleri\n",
    "\n",
    "print(name[::-1])  # ters çevirdim\n",
    "print(name[2:5]) # 2 ila 5 indeksler arasındaki aldım, 2,3 ve 4. indeksleri aldım.\n",
    "\n",
    "## String içerisinde eleman sorgulamak \n",
    "\n",
    "\"Mustafa\" in longStr ## burada sorgulamak istediğim değeri aldım ve in diye sordum, oda bana neyin içinde mi dercesine sordu ve neyin içerisinde kontrol etmem gerekiyorsa onu konrol etmek için yazdım. \n"
   ]
  }
 ],
 "metadata": {
  "kernelspec": {
   "display_name": "Python 3",
   "language": "python",
   "name": "python3"
  },
  "language_info": {
   "codemirror_mode": {
    "name": "ipython",
    "version": 3
   },
   "file_extension": ".py",
   "mimetype": "text/x-python",
   "name": "python",
   "nbconvert_exporter": "python",
   "pygments_lexer": "ipython3",
   "version": "3.11.2"
  },
  "orig_nbformat": 4
 },
 "nbformat": 4,
 "nbformat_minor": 2
}
