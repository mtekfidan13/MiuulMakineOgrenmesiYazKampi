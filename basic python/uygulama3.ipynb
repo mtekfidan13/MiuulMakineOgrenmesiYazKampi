{
 "cells": [
  {
   "cell_type": "markdown",
   "metadata": {},
   "source": [
    "buradaki amacımız alternating fonksiyonun enumerate ile yazılmasıdır."
   ]
  },
  {
   "cell_type": "code",
   "execution_count": 1,
   "metadata": {},
   "outputs": [
    {
     "name": "stdout",
     "output_type": "stream",
     "text": [
      "MuStAfA\n"
     ]
    }
   ],
   "source": [
    "metin = input()\n",
    "newMetin = \"\"\n",
    "for index, letter in enumerate(metin):\n",
    "    if index % 2 == 0:\n",
    "        newMetin += letter.upper()\n",
    "    else:\n",
    "        newMetin += letter.lower()\n",
    "    \n",
    "print(newMetin)"
   ]
  }
 ],
 "metadata": {
  "kernelspec": {
   "display_name": "Python 3",
   "language": "python",
   "name": "python3"
  },
  "language_info": {
   "codemirror_mode": {
    "name": "ipython",
    "version": 3
   },
   "file_extension": ".py",
   "mimetype": "text/x-python",
   "name": "python",
   "nbconvert_exporter": "python",
   "pygments_lexer": "ipython3",
   "version": "3.11.2"
  },
  "orig_nbformat": 4
 },
 "nbformat": 4,
 "nbformat_minor": 2
}
