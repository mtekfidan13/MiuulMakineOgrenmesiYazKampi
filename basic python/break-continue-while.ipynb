{
 "cells": [
  {
   "cell_type": "markdown",
   "metadata": {},
   "source": [
    "break ifadesi aranan koşulun bulunması halinde ``` döngünün ``` durmasını sağlar"
   ]
  },
  {
   "cell_type": "code",
   "execution_count": 1,
   "metadata": {},
   "outputs": [
    {
     "name": "stdout",
     "output_type": "stream",
     "text": [
      "1000\n",
      "2000\n"
     ]
    }
   ],
   "source": [
    "salary = [1000,2000,3000,4000]\n",
    "\n",
    "for i in salary:\n",
    "    if i == 3000:\n",
    "        break\n",
    "    else:\n",
    "        print(i)\n",
    "        \n",
    "    "
   ]
  },
  {
   "cell_type": "markdown",
   "metadata": {},
   "source": [
    "``` continue ``` ifadesi ise bir durumda aranan bir durumda devam etmesini, o durumu pas geçmesini sağlayan bir komuttur."
   ]
  },
  {
   "cell_type": "code",
   "execution_count": 2,
   "metadata": {},
   "outputs": [
    {
     "name": "stdout",
     "output_type": "stream",
     "text": [
      "1000\n",
      "2000\n",
      "4000\n"
     ]
    }
   ],
   "source": [
    "salary = [1000,2000,3000,4000]\n",
    "\n",
    "for i in salary:\n",
    "    if i == 3000:\n",
    "        continue\n",
    "    else:\n",
    "        print(i)\n",
    "        "
   ]
  },
  {
   "cell_type": "markdown",
   "metadata": {},
   "source": [
    "``` while ``` -dığı sürece anlamına gelir. Bu durumda, bir durumun doğrululuğunu koruduğu sürece devam eden bir döngüdür. "
   ]
  }
 ],
 "metadata": {
  "kernelspec": {
   "display_name": "Python 3",
   "language": "python",
   "name": "python3"
  },
  "language_info": {
   "codemirror_mode": {
    "name": "ipython",
    "version": 3
   },
   "file_extension": ".py",
   "mimetype": "text/x-python",
   "name": "python",
   "nbconvert_exporter": "python",
   "pygments_lexer": "ipython3",
   "version": "3.11.2"
  },
  "orig_nbformat": 4
 },
 "nbformat": 4,
 "nbformat_minor": 2
}
