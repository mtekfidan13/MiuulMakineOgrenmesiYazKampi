{
 "cells": [
  {
   "cell_type": "markdown",
   "metadata": {},
   "source": [
    "docstring, fonkiyonlarımızın herkesi anlayacağı dilden fonksiyon haline getirme işlemine docstring işemi denir. Bir nevi docstringler, bir fonksiyonların kullanım kılavuzlarıdır. "
   ]
  },
  {
   "cell_type": "code",
   "execution_count": null,
   "metadata": {},
   "outputs": [],
   "source": [
    "def toplama(arg1, arg2):\n",
    "    \"\"\"\n",
    "    \n",
    "    \"\"\""
   ]
  }
 ],
 "metadata": {
  "language_info": {
   "name": "python"
  },
  "orig_nbformat": 4
 },
 "nbformat": 4,
 "nbformat_minor": 2
}
