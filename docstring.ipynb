{
 "cells": [
  {
   "cell_type": "markdown",
   "metadata": {},
   "source": [
    "docstring, fonkiyonlarımızın herkesi anlayacağı dilden fonksiyon haline getirme işlemine docstring işemi denir. Bir nevi docstringler, bir fonksiyonların kullanım kılavuzlarıdır. "
   ]
  },
  {
   "cell_type": "code",
   "execution_count": 1,
   "metadata": {},
   "outputs": [
    {
     "name": "stdout",
     "output_type": "stream",
     "text": [
      "\u001b[1;31mSignature:\u001b[0m  \u001b[0mtoplama\u001b[0m\u001b[1;33m(\u001b[0m\u001b[0marg1\u001b[0m\u001b[1;33m,\u001b[0m \u001b[0marg2\u001b[0m\u001b[1;33m)\u001b[0m\u001b[1;33m\u001b[0m\u001b[1;33m\u001b[0m\u001b[0m\n",
      "\u001b[1;31mDocstring:\u001b[0m\n",
      "pycharm uygulmasında burada farklı değerler çıkarak, fonksiyonu alnlatmamazı sağlayacak dökümantasyon hazırlıyor. \n",
      "bu fonksiyon verilen iki parametreyi topluyor. \n",
      "\n",
      "Parameters:\n",
      "arg1 (int, float):\n",
      "arg2 (int, float):\n",
      "\n",
      "\n",
      "Returns: \n",
      "arg1 + arg2 \n",
      "\u001b[1;31mFile:\u001b[0m      c:\\users\\acer\\appdata\\local\\temp\\ipykernel_19028\\1598939031.py\n",
      "\u001b[1;31mType:\u001b[0m      function"
     ]
    }
   ],
   "source": [
    "# bir fonksiyonun açıklama dosyasını hazırlamak için, fonksiyonu yazıyosun daha sonrasında altına geçip üç adewt tırnak açıyorsun. Tırnakları açtıktan sonrasında da açıklamaları yapıyorsun. \n",
    "\n",
    "\n",
    "def toplama(arg1, arg2):\n",
    "    \"\"\"\n",
    "    bu fonksiyon verilen iki parametreyi topluyor. \n",
    "\n",
    "    Parameters:\n",
    "    arg1 (int, float):\n",
    "    arg2 (int, float):\n",
    "\n",
    "\n",
    "    Returns: \n",
    "    arg1 + arg2 \n",
    "\n",
    "    \"\"\"\n",
    "    return arg1 + arg2\n",
    "\n",
    "\n",
    "\n",
    "? toplama"
   ]
  }
 ],
 "metadata": {
  "kernelspec": {
   "display_name": "Python 3",
   "language": "python",
   "name": "python3"
  },
  "language_info": {
   "codemirror_mode": {
    "name": "ipython",
    "version": 3
   },
   "file_extension": ".py",
   "mimetype": "text/x-python",
   "name": "python",
   "nbconvert_exporter": "python",
   "pygments_lexer": "ipython3",
   "version": "3.11.2"
  },
  "orig_nbformat": 4
 },
 "nbformat": 4,
 "nbformat_minor": 2
}
