{
 "cells": [
  {
   "cell_type": "code",
   "execution_count": 1,
   "metadata": {},
   "outputs": [],
   "source": [
    "# veri görselleştirme: Matplotlib & Seaborn\n",
    "\n"
   ]
  },
  {
   "cell_type": "code",
   "execution_count": 2,
   "metadata": {},
   "outputs": [],
   "source": [
    "import numpy as np\n",
    "import pandas as pd\n",
    "import seaborn as sns"
   ]
  },
  {
   "cell_type": "code",
   "execution_count": null,
   "metadata": {},
   "outputs": [],
   "source": []
  },
  {
   "cell_type": "code",
   "execution_count": 3,
   "metadata": {},
   "outputs": [],
   "source": [
    "# Matplotlib, pythondaki veri görselleştirme araçlarının atasıdır. Low level, yani düşük seviye veri görselleştirme aracıdır. Bu şu anlama gelir. Burada daha fazla çaba göstererek daha az sonuç alırız.\n",
    "\n",
    "# Seaborn ise veri görselleştirmede daha az çabayla daha fazla iş yapmayı sağlar. \n",
    "\n",
    "# Kategorik değişken varsa: sütun grafik ile görselleştiriyoruz. (seaborn -> countplot)\n",
    "# Sayısal Değişken: histogram, boxplot\n",
    "\n"
   ]
  }
 ],
 "metadata": {
  "kernelspec": {
   "display_name": "Python 3",
   "language": "python",
   "name": "python3"
  },
  "language_info": {
   "codemirror_mode": {
    "name": "ipython",
    "version": 3
   },
   "file_extension": ".py",
   "mimetype": "text/x-python",
   "name": "python",
   "nbconvert_exporter": "python",
   "pygments_lexer": "ipython3",
   "version": "3.11.2"
  },
  "orig_nbformat": 4
 },
 "nbformat": 4,
 "nbformat_minor": 2
}
