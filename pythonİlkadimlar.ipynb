{
 "cells": [
  {
   "cell_type": "code",
   "execution_count": 1,
   "metadata": {},
   "outputs": [
    {
     "name": "stdout",
     "output_type": "stream",
     "text": [
      "hello world\n",
      "10 9 \n",
      "\n",
      "90\n",
      "1\n",
      "1\n"
     ]
    }
   ],
   "source": [
    "print(\"hello world\")\n",
    "\n",
    "a = 10\n",
    "b = 9 \n",
    "print(a,b, \"\\n\")\n",
    "print(a*b)\n",
    "print(a-b)\n",
    "\n",
    "c = a-b\n",
    "print(c)"
   ]
  }
 ],
 "metadata": {
  "kernelspec": {
   "display_name": "Python 3",
   "language": "python",
   "name": "python3"
  },
  "language_info": {
   "codemirror_mode": {
    "name": "ipython",
    "version": 3
   },
   "file_extension": ".py",
   "mimetype": "text/x-python",
   "name": "python",
   "nbconvert_exporter": "python",
   "pygments_lexer": "ipython3",
   "version": "3.11.2"
  },
  "orig_nbformat": 4
 },
 "nbformat": 4,
 "nbformat_minor": 2
}
